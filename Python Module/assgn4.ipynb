{
 "cells": [
  {
   "cell_type": "markdown",
   "source": [
    "## Assignment 4 of python programming (basic)"
   ],
   "metadata": {
    "collapsed": false
   }
  },
  {
   "cell_type": "code",
   "execution_count": 2,
   "metadata": {
    "collapsed": true
   },
   "outputs": [
    {
     "data": {
      "text/plain": "120"
     },
     "execution_count": 2,
     "metadata": {},
     "output_type": "execute_result"
    }
   ],
   "source": [
    "#q1\n",
    "\n",
    "def fact(num):\n",
    "    fac = 1\n",
    "    for i in range(1, num+1):\n",
    "        fac*=i\n",
    "    return fac\n",
    "fact(5)"
   ]
  },
  {
   "cell_type": "code",
   "execution_count": 4,
   "outputs": [
    {
     "name": "stdout",
     "output_type": "stream",
     "text": [
      "5 x 1 = 5\n",
      "5 x 2 = 10\n",
      "5 x 3 = 15\n",
      "5 x 4 = 20\n",
      "5 x 5 = 25\n",
      "5 x 6 = 30\n",
      "5 x 7 = 35\n",
      "5 x 8 = 40\n",
      "5 x 9 = 45\n",
      "5 x 10 = 50\n"
     ]
    }
   ],
   "source": [
    "#q2\n",
    "\n",
    "def mult(num):\n",
    "    for i in range(1, 11):\n",
    "        print(str(num) + ' x ' + str(i) + ' = ' + str(num*i))\n",
    "\n",
    "mult(5)"
   ],
   "metadata": {
    "collapsed": false,
    "pycharm": {
     "name": "#%%\n"
    }
   }
  },
  {
   "cell_type": "code",
   "execution_count": 28,
   "outputs": [
    {
     "name": "stdout",
     "output_type": "stream",
     "text": [
      "0\n",
      "1\n",
      "1\n",
      "2\n",
      "3\n",
      "5\n",
      "8\n",
      "13\n",
      "21\n",
      "34\n"
     ]
    }
   ],
   "source": [
    "#q3\n",
    "def fibo(num):\n",
    "    if num == 0:\n",
    "        return 0\n",
    "    elif num==1 or num==2:\n",
    "        return 1\n",
    "    else:\n",
    "        return fibo(num-1) + fibo(num-2)\n",
    "\n",
    "for i in range(10):\n",
    "    print(fibo(i))"
   ],
   "metadata": {
    "collapsed": false,
    "pycharm": {
     "name": "#%%\n"
    }
   }
  },
  {
   "cell_type": "code",
   "execution_count": 29,
   "outputs": [
    {
     "data": {
      "text/plain": "1634"
     },
     "execution_count": 29,
     "metadata": {},
     "output_type": "execute_result"
    }
   ],
   "source": [
    "#q4\n",
    "def armstrong(num):\n",
    "    ar = []\n",
    "    p = num\n",
    "    while num != 0:\n",
    "        ar.append(num%10)\n",
    "        num = num//10\n",
    "    ar = ar[::-1]\n",
    "    n = len(ar)\n",
    "    sum = 0\n",
    "    for i in range(len(ar)):\n",
    "        sum += ar[i]**n\n",
    "\n",
    "    if sum == p:\n",
    "        #print('yes it is armstrong')\n",
    "        return sum\n",
    "    else:\n",
    "        #print('not armstrong')\n",
    "        return None\n",
    "\n",
    "armstrong(1634)"
   ],
   "metadata": {
    "collapsed": false,
    "pycharm": {
     "name": "#%%\n"
    }
   }
  },
  {
   "cell_type": "code",
   "execution_count": 30,
   "outputs": [
    {
     "data": {
      "text/plain": "[0, 1, 2, 3, 4, 5, 6, 7, 8, 9, 153, 370, 371, 407, 1634, 8208, 9474]"
     },
     "execution_count": 30,
     "metadata": {},
     "output_type": "execute_result"
    }
   ],
   "source": [
    "#q5\n",
    "arr = []\n",
    "for i in range(10000):\n",
    "    if armstrong(i) != None:\n",
    "        arr.append(armstrong(i))\n",
    "arr"
   ],
   "metadata": {
    "collapsed": false,
    "pycharm": {
     "name": "#%%\n"
    }
   }
  },
  {
   "cell_type": "code",
   "execution_count": 31,
   "outputs": [
    {
     "name": "stdout",
     "output_type": "stream",
     "text": [
      "50005000\n"
     ]
    }
   ],
   "source": [
    "#q6\n",
    "sum = 0\n",
    "for i in range(1,10001):\n",
    "    sum+=i\n",
    "print(sum)"
   ],
   "metadata": {
    "collapsed": false,
    "pycharm": {
     "name": "#%%\n"
    }
   }
  },
  {
   "cell_type": "code",
   "execution_count": null,
   "outputs": [],
   "source": [],
   "metadata": {
    "collapsed": false,
    "pycharm": {
     "name": "#%%\n"
    }
   }
  }
 ],
 "metadata": {
  "kernelspec": {
   "display_name": "Python 3",
   "language": "python",
   "name": "python3"
  },
  "language_info": {
   "codemirror_mode": {
    "name": "ipython",
    "version": 2
   },
   "file_extension": ".py",
   "mimetype": "text/x-python",
   "name": "python",
   "nbconvert_exporter": "python",
   "pygments_lexer": "ipython2",
   "version": "2.7.6"
  }
 },
 "nbformat": 4,
 "nbformat_minor": 0
}