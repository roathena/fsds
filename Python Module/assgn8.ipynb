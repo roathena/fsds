{
 "cells": [
  {
   "cell_type": "markdown",
   "source": [
    "## Assignment 8 of python programming (basic)"
   ],
   "metadata": {
    "collapsed": false
   }
  },
  {
   "cell_type": "code",
   "execution_count": 2,
   "metadata": {
    "collapsed": true
   },
   "outputs": [
    {
     "name": "stdout",
     "output_type": "stream",
     "text": [
      "[[ 1 11 11]\n",
      " [ 7  9 11]\n",
      " [14  5  6]]\n"
     ]
    }
   ],
   "source": [
    "#Q1\n",
    "import numpy as np\n",
    "m1 = [\n",
    "    [1,2,3],\n",
    "    [2,3,4],\n",
    "    [3,4,5]\n",
    "]\n",
    "\n",
    "m2 = [\n",
    "    [0,9,8],\n",
    "    [5,6,7],\n",
    "    [11,1,1]\n",
    "]\n",
    "\n",
    "m1 = np.array(m1)\n",
    "m2 = np.array(m2)\n",
    "\n",
    "print(m1+m2)"
   ]
  },
  {
   "cell_type": "code",
   "execution_count": 3,
   "outputs": [
    {
     "name": "stdout",
     "output_type": "stream",
     "text": [
      "[[ 0 18 24]\n",
      " [10 18 28]\n",
      " [33  4  5]]\n"
     ]
    }
   ],
   "source": [
    "#q2\n",
    "print(m1*m2)"
   ],
   "metadata": {
    "collapsed": false,
    "pycharm": {
     "name": "#%%\n"
    }
   }
  },
  {
   "cell_type": "code",
   "execution_count": 7,
   "outputs": [
    {
     "name": "stdout",
     "output_type": "stream",
     "text": [
      "[[ 0  5 11]\n",
      " [ 9  6  1]\n",
      " [ 8  7  1]]\n"
     ]
    }
   ],
   "source": [
    "#q3\n",
    "print(m2.T)"
   ],
   "metadata": {
    "collapsed": false,
    "pycharm": {
     "name": "#%%\n"
    }
   }
  },
  {
   "cell_type": "code",
   "execution_count": 21,
   "outputs": [
    {
     "data": {
      "text/plain": "'hiort'"
     },
     "execution_count": 21,
     "metadata": {},
     "output_type": "execute_result"
    }
   ],
   "source": [
    "#q4\n",
    "\n",
    "def sortAlpha(word):\n",
    "    a = []\n",
    "    for i in range(len(word)):\n",
    "        a.append(ord(word[i]))\n",
    "    a.sort()\n",
    "    txt = ''\n",
    "    for i in range(len(a)):\n",
    "        txt+=chr(a[i])\n",
    "    return txt.strip()\n",
    "\n",
    "sortAlpha('rohit')\n"
   ],
   "metadata": {
    "collapsed": false,
    "pycharm": {
     "name": "#%%\n"
    }
   }
  },
  {
   "cell_type": "code",
   "execution_count": 31,
   "outputs": [
    {
     "data": {
      "text/plain": "'word'"
     },
     "execution_count": 31,
     "metadata": {},
     "output_type": "execute_result"
    }
   ],
   "source": [
    "#Q5\n",
    "def remsp(word):\n",
    "    a = []\n",
    "    for i in range(len(word)):\n",
    "        a.append(ord(word[i]))\n",
    "    txt = ''\n",
    "    for i in range(len(a)):\n",
    "        if (a[i]>=65 and a[i]<=90) or (a[i]>=97 and a[i]<=122):\n",
    "            txt+=chr(a[i])\n",
    "\n",
    "    return txt.strip()\n",
    "\n",
    "remsp('word,')"
   ],
   "metadata": {
    "collapsed": false,
    "pycharm": {
     "name": "#%%\n"
    }
   }
  },
  {
   "cell_type": "code",
   "execution_count": null,
   "outputs": [],
   "source": [],
   "metadata": {
    "collapsed": false,
    "pycharm": {
     "name": "#%%\n"
    }
   }
  }
 ],
 "metadata": {
  "kernelspec": {
   "display_name": "Python 3",
   "language": "python",
   "name": "python3"
  },
  "language_info": {
   "codemirror_mode": {
    "name": "ipython",
    "version": 2
   },
   "file_extension": ".py",
   "mimetype": "text/x-python",
   "name": "python",
   "nbconvert_exporter": "python",
   "pygments_lexer": "ipython2",
   "version": "2.7.6"
  }
 },
 "nbformat": 4,
 "nbformat_minor": 0
}