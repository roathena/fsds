{
 "cells": [
  {
   "cell_type": "markdown",
   "source": [
    "## Assignment 7 of python programming (basic)"
   ],
   "metadata": {
    "collapsed": false
   }
  },
  {
   "cell_type": "code",
   "execution_count": 1,
   "metadata": {
    "collapsed": true
   },
   "outputs": [
    {
     "name": "stdout",
     "output_type": "stream",
     "text": [
      "55\n"
     ]
    }
   ],
   "source": [
    "#q1\n",
    "arr = [1,2,3,4,5,6,7,8,9,10]\n",
    "sum = 0\n",
    "\n",
    "for i in range(len(arr)):\n",
    "    sum += arr[i]\n",
    "\n",
    "print(sum)"
   ]
  },
  {
   "cell_type": "code",
   "execution_count": 2,
   "outputs": [
    {
     "name": "stdout",
     "output_type": "stream",
     "text": [
      "3456\n"
     ]
    }
   ],
   "source": [
    "#q2\n",
    "arr = [23, 1245,3456,2,31]\n",
    "print(max(arr))"
   ],
   "metadata": {
    "collapsed": false,
    "pycharm": {
     "name": "#%%\n"
    }
   }
  },
  {
   "cell_type": "code",
   "execution_count": 7,
   "outputs": [
    {
     "data": {
      "text/plain": "[5, 1, 2, 3, 4]"
     },
     "execution_count": 7,
     "metadata": {},
     "output_type": "execute_result"
    }
   ],
   "source": [
    "#q3\n",
    "def rotatearr(n, arr):\n",
    "    for i in range(n):\n",
    "        p = arr[0]\n",
    "        arr.pop(0)\n",
    "        arr.append(p)\n",
    "    return arr\n",
    "\n",
    "rotatearr(4, [1,2,3,4,5])"
   ],
   "metadata": {
    "collapsed": false,
    "pycharm": {
     "name": "#%%\n"
    }
   }
  },
  {
   "cell_type": "code",
   "execution_count": 13,
   "outputs": [
    {
     "data": {
      "text/plain": "[1, 3, 5, 1, 2]"
     },
     "execution_count": 13,
     "metadata": {},
     "output_type": "execute_result"
    }
   ],
   "source": [
    "#q4\n",
    "def splitarr(ind, arr):\n",
    "    l = arr[:ind]\n",
    "    for i in range(ind):\n",
    "        arr.pop(i)\n",
    "    for i in range(len(l)):\n",
    "        arr.append(l[i])\n",
    "    return arr\n",
    "\n",
    "splitarr(3, [5, 1, 2, 3, 4])\n"
   ],
   "metadata": {
    "collapsed": false,
    "pycharm": {
     "name": "#%%\n"
    }
   }
  },
  {
   "cell_type": "code",
   "execution_count": 16,
   "outputs": [
    {
     "name": "stdout",
     "output_type": "stream",
     "text": [
      "non monotonic\n"
     ]
    }
   ],
   "source": [
    "#q5\n",
    "def monotonic(arr):\n",
    "    flag = 0\n",
    "    for i in range(len(arr)-1):\n",
    "        for j in range(1, len(arr)):\n",
    "            if i<=j and arr[i]<=arr[j]:\n",
    "                flag+=1\n",
    "    if flag == len(arr):\n",
    "        print('monotonic')\n",
    "    else:\n",
    "        print('non monotonic')\n",
    "\n",
    "monotonic([1, 3, 5, 1, 2])\n"
   ],
   "metadata": {
    "collapsed": false,
    "pycharm": {
     "name": "#%%\n"
    }
   }
  },
  {
   "cell_type": "code",
   "execution_count": null,
   "outputs": [],
   "source": [],
   "metadata": {
    "collapsed": false,
    "pycharm": {
     "name": "#%%\n"
    }
   }
  }
 ],
 "metadata": {
  "kernelspec": {
   "display_name": "Python 3",
   "language": "python",
   "name": "python3"
  },
  "language_info": {
   "codemirror_mode": {
    "name": "ipython",
    "version": 2
   },
   "file_extension": ".py",
   "mimetype": "text/x-python",
   "name": "python",
   "nbconvert_exporter": "python",
   "pygments_lexer": "ipython2",
   "version": "2.7.6"
  }
 },
 "nbformat": 4,
 "nbformat_minor": 0
}