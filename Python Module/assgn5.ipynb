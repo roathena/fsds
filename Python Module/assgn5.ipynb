{
 "cells": [
  {
   "cell_type": "markdown",
   "source": [
    "## Assignment 5 of python programming (basic)"
   ],
   "metadata": {
    "collapsed": false
   }
  },
  {
   "cell_type": "code",
   "execution_count": 4,
   "metadata": {
    "collapsed": true
   },
   "outputs": [
    {
     "data": {
      "text/plain": "240.0"
     },
     "execution_count": 4,
     "metadata": {},
     "output_type": "execute_result"
    }
   ],
   "source": [
    "#q1\n",
    "import math\n",
    "def multiples(num):\n",
    "    arr = [1, num]\n",
    "    for i in range(2, num):\n",
    "        if num%i==0:\n",
    "            arr.append(i)\n",
    "    return arr\n",
    "\n",
    "def gcd(a, b):\n",
    "    ma = multiples(a)\n",
    "    mb = multiples(b)\n",
    "    marr = []\n",
    "\n",
    "    for i in range(len(ma)):\n",
    "        for j in range(len(mb)):\n",
    "            if ma[i] == mb[j]:\n",
    "                marr.append(mb[j])\n",
    "    return max(marr)\n",
    "\n",
    "def lcm(a, b):\n",
    "    lcm = a*b/gcd(a,b)\n",
    "    return lcm\n",
    "lcm(120, 80)"
   ]
  },
  {
   "cell_type": "code",
   "execution_count": 5,
   "outputs": [
    {
     "data": {
      "text/plain": "6"
     },
     "execution_count": 5,
     "metadata": {},
     "output_type": "execute_result"
    }
   ],
   "source": [
    "#q2\n",
    "\n",
    "gcd(30, 42)"
   ],
   "metadata": {
    "collapsed": false,
    "pycharm": {
     "name": "#%%\n"
    }
   }
  },
  {
   "cell_type": "code",
   "execution_count": 14,
   "outputs": [
    {
     "name": "stdout",
     "output_type": "stream",
     "text": [
      "binary of 2: 0b10\n",
      "hex of 2343: 0x927\n",
      "oct of 3455: 0o6577\n"
     ]
    }
   ],
   "source": [
    "#q3\n",
    "\n",
    "print('binary of 2: ' + bin(2))\n",
    "print('hex of 2343: ' + hex(2343))\n",
    "print('oct of 3455: ' + oct(3455))"
   ],
   "metadata": {
    "collapsed": false,
    "pycharm": {
     "name": "#%%\n"
    }
   }
  },
  {
   "cell_type": "code",
   "execution_count": 16,
   "outputs": [
    {
     "name": "stdout",
     "output_type": "stream",
     "text": [
      "ascii of \"A\": 65\n"
     ]
    }
   ],
   "source": [
    "#q4\n",
    "\n",
    "print('ascii of \"A\": ' + str(ord('A')))"
   ],
   "metadata": {
    "collapsed": false,
    "pycharm": {
     "name": "#%%\n"
    }
   }
  },
  {
   "cell_type": "code",
   "execution_count": 19,
   "outputs": [
    {
     "data": {
      "text/plain": "5"
     },
     "execution_count": 19,
     "metadata": {},
     "output_type": "execute_result"
    }
   ],
   "source": [
    "#q5\n",
    "def calc(op, num1, num2):\n",
    "    if op == 'add':\n",
    "        return num1 + num2\n",
    "    elif op == 'sub':\n",
    "        return num1 - num2\n",
    "    elif op == 'mul':\n",
    "        return num1*num2\n",
    "    elif op == 'div':\n",
    "        return num1/num2\n",
    "    else:\n",
    "        return 'invalid op code'\n",
    "\n",
    "calc('add', 2, 3)"
   ],
   "metadata": {
    "collapsed": false,
    "pycharm": {
     "name": "#%%\n"
    }
   }
  },
  {
   "cell_type": "markdown",
   "source": [],
   "metadata": {
    "collapsed": false
   }
  },
  {
   "cell_type": "code",
   "execution_count": null,
   "outputs": [],
   "source": [],
   "metadata": {
    "collapsed": false,
    "pycharm": {
     "name": "#%%\n"
    }
   }
  }
 ],
 "metadata": {
  "kernelspec": {
   "display_name": "Python 3",
   "language": "python",
   "name": "python3"
  },
  "language_info": {
   "codemirror_mode": {
    "name": "ipython",
    "version": 2
   },
   "file_extension": ".py",
   "mimetype": "text/x-python",
   "name": "python",
   "nbconvert_exporter": "python",
   "pygments_lexer": "ipython2",
   "version": "2.7.6"
  }
 },
 "nbformat": 4,
 "nbformat_minor": 0
}