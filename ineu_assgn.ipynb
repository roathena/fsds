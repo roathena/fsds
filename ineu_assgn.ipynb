{
 "cells": [
  {
   "cell_type": "markdown",
   "source": [
    "# Python Screening Assignment\n",
    "### Submitted by: Rohit Sarma\n",
    "### Email: roathena7@gmail.com"
   ],
   "metadata": {
    "collapsed": false,
    "pycharm": {
     "name": "#%% md\n"
    }
   }
  },
  {
   "cell_type": "code",
   "execution_count": 53,
   "outputs": [
    {
     "name": "stdout",
     "output_type": "stream",
     "text": [
      "Created file with: \n",
      "Name:  example.txt\n",
      "Content:  This is a placement assignment\n",
      "\n",
      "Wrote file with\n",
      "Name:  example.txt\n",
      "Content:  This is a screening assignment\n"
     ]
    }
   ],
   "source": [
    "#abstract class\n",
    "from abc import ABC\n",
    "class handle_file(ABC):\n",
    "    def replace_content(self, f):\n",
    "        pass\n",
    "\n",
    "class import_file(ABC):\n",
    "    def create_file(self):\n",
    "        pass\n",
    "#multi inheritence\n",
    "class files(import_file, handle_file):\n",
    "    def create_file(self):\n",
    "        with open('example.txt', 'w') as f:\n",
    "            f.write('This is a placement assignment')\n",
    "            f.close()\n",
    "\n",
    "        with open('example.txt', 'r', encoding='utf-8') as f:\n",
    "            print(\"Created file with: \")\n",
    "            print(\"Name: \", f.name)\n",
    "            print(\"Content: \", f.read())\n",
    "            f.close()\n",
    "\n",
    "    def replace_content(self):\n",
    "        d = \"\"\n",
    "        with open('example.txt', 'r', encoding='utf-8') as f:\n",
    "            d = f.read()\n",
    "            f.close()\n",
    "        print('')\n",
    "        t = d.split(' ')\n",
    "        t.remove('placement')\n",
    "        t.insert(len(t) - 1, 'screening')\n",
    "        d = ' '.join(t)\n",
    "\n",
    "        with open('example.txt', 'w') as f:\n",
    "            f.write(d)\n",
    "            f.close()\n",
    "\n",
    "        with open('example.txt', 'r', encoding='utf-8') as f:\n",
    "            print(\"Wrote file with\")\n",
    "            print(\"Name: \", f.name)\n",
    "            print(\"Content: \", f.read())\n",
    "            f.close()\n",
    "\n",
    "if __name__ == '__main__':\n",
    "    a = files()\n",
    "    createFile = a.create_file\n",
    "    replaceContent = a.replace_content\n",
    "    #Decorator\n",
    "    createFile()\n",
    "    replaceContent()"
   ],
   "metadata": {
    "collapsed": false,
    "pycharm": {
     "name": "#%%\n"
    }
   }
  },
  {
   "cell_type": "code",
   "execution_count": null,
   "outputs": [],
   "source": [],
   "metadata": {
    "collapsed": false,
    "pycharm": {
     "name": "#%%\n"
    }
   }
  }
 ],
 "metadata": {
  "kernelspec": {
   "display_name": "Python 3",
   "language": "python",
   "name": "python3"
  },
  "language_info": {
   "codemirror_mode": {
    "name": "ipython",
    "version": 2
   },
   "file_extension": ".py",
   "mimetype": "text/x-python",
   "name": "python",
   "nbconvert_exporter": "python",
   "pygments_lexer": "ipython2",
   "version": "2.7.6"
  }
 },
 "nbformat": 4,
 "nbformat_minor": 0
}